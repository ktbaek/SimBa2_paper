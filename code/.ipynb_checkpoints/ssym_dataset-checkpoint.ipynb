{
 "cells": [
  {
   "cell_type": "code",
   "execution_count": null,
   "id": "architectural-technology",
   "metadata": {},
   "outputs": [],
   "source": [
    "import pandas as pd\n",
    "import simba2.methods as simba\n",
    "from Bio.PDB import PDBList"
   ]
  },
  {
   "cell_type": "code",
   "execution_count": null,
   "id": "biblical-twenty",
   "metadata": {},
   "outputs": [],
   "source": [
    "# Import Ssym reverse dataset\n",
    "ssym = pd.read_csv('../data/processed/ssym_tidy.csv')\n",
    "\n",
    "ssym.Number = ssym.Number.astype('str')\n",
    "ssym['PDB'] = ssym.apply(lambda row : row['PDB'].upper(), axis=1)\n",
    "\n",
    "aa_codes = pd.read_csv('../data/aa_codes.csv')\n",
    "aa_dict = aa_codes.drop(columns = 'Name').set_index('Code').T.to_dict(orient = 'list')\n",
    "aa_dict = {code: letter[0] for code, letter in aa_dict.items()}"
   ]
  },
  {
   "cell_type": "code",
   "execution_count": null,
   "id": "arbitrary-netherlands",
   "metadata": {},
   "outputs": [],
   "source": [
    "for column in ['Wild','Mutated']:\n",
    "    ssym[column] = ssym.apply(lambda row : aa_dict[row[column]], axis=1)"
   ]
  },
  {
   "cell_type": "code",
   "execution_count": null,
   "id": "found-pickup",
   "metadata": {},
   "outputs": [],
   "source": [
    "len(ssym)"
   ]
  },
  {
   "cell_type": "code",
   "execution_count": null,
   "id": "revolutionary-master",
   "metadata": {},
   "outputs": [],
   "source": [
    "# QC on dataset\n",
    "\n",
    "## Any duplicates?\n",
    "ssym_mutations = ssym[['Number', 'PDB', 'Wild', 'Mutated', 'exp_ddG']]\n",
    "ssym_mutations[ssym_mutations.duplicated()]\n",
    "sum(ssym_mutations.duplicated())"
   ]
  },
  {
   "cell_type": "code",
   "execution_count": null,
   "id": "written-brazilian",
   "metadata": {},
   "outputs": [],
   "source": [
    "pdb_dir = '../data/PDB'"
   ]
  },
  {
   "cell_type": "code",
   "execution_count": null,
   "id": "greater-london",
   "metadata": {},
   "outputs": [],
   "source": [
    "# List of unique PDBs \n",
    "unique_pdbs = ssym['PDB'].unique()"
   ]
  },
  {
   "cell_type": "code",
   "execution_count": null,
   "id": "accessible-turkey",
   "metadata": {
    "scrolled": false
   },
   "outputs": [],
   "source": [
    "# Download PDBs\n",
    "pdbl = PDBList()\n",
    "\n",
    "for name in unique_pdbs:\n",
    "    pdbl.retrieve_pdb_file(name, pdir=pdb_dir, file_format='pdb')"
   ]
  },
  {
   "cell_type": "code",
   "execution_count": null,
   "id": "residential-population",
   "metadata": {
    "scrolled": false
   },
   "outputs": [],
   "source": [
    "# Calculate ddG with Simba2 for each PDB in datasets but \n",
    "# keep only those entries that are present in the dataset.\n",
    "\n",
    "df_list = []\n",
    "for pdb in unique_pdbs:\n",
    "    pdb_path, exists = simba.exists_pdb(pdb, pdb_dir)\n",
    "    if exists:\n",
    "        df = simba.simba2_predict(pdb, pdb_path)\n",
    "        df1 = pd.merge(df, \n",
    "                 ssym[ssym['PDB'] == pdb], \n",
    "                 how = 'inner', \n",
    "                 on = ['PDB', 'Chain', 'Number', 'Wild', 'Mutated'])\n",
    "        \n",
    "        ## Does wild-type residue type and position match in PDB?\n",
    "        ## Is the chain letter present in the PDB?\n",
    "        if len(df1) == 0:\n",
    "            print(pdb)\n",
    "            \n",
    "        pdb_entries = ssym[ssym['PDB'] == pdb]\n",
    "        pdb_positions = pdb_entries[['Number', 'Wild']]\n",
    "        pdb_chains = pdb_entries[['PDB','Number','Chain']]\n",
    "        merged = pd.merge(df, pdb_positions, how = 'outer', indicator = True, on = ['Number', 'Wild'])\n",
    "        not_matched = merged[merged['_merge'] == 'right_only']\n",
    "        if len(not_matched) != 0: \n",
    "            print(not_matched[['PDB', 'Number', 'Wild']])\n",
    "        \n",
    "        merged = pd.merge(df, pdb_entries, how = 'outer', indicator = True, on = ['Chain'])\n",
    "        not_matched = merged[merged['_merge'] == 'right_only']\n",
    "        if len(not_matched) != 0: \n",
    "            print(not_matched[['Number_y', 'Chain']])\n",
    "              \n",
    "        df_list.append(df1)\n",
    "        "
   ]
  },
  {
   "cell_type": "code",
   "execution_count": null,
   "id": "subsequent-scheme",
   "metadata": {},
   "outputs": [],
   "source": [
    "simba_df = pd.concat(df_list)"
   ]
  },
  {
   "cell_type": "code",
   "execution_count": null,
   "id": "creative-tender",
   "metadata": {},
   "outputs": [],
   "source": [
    "len(simba_df)"
   ]
  },
  {
   "cell_type": "code",
   "execution_count": null,
   "id": "unable-offset",
   "metadata": {},
   "outputs": [],
   "source": [
    "(simba_df\n",
    " .sort_values(by = ['Mut_index', 'PDB', 'Number'])\n",
    " .to_csv(\"../data/ssym_2.csv\", index = False))"
   ]
  }
 ],
 "metadata": {
  "kernelspec": {
   "display_name": "Python 3",
   "language": "python",
   "name": "python3"
  },
  "language_info": {
   "codemirror_mode": {
    "name": "ipython",
    "version": 3
   },
   "file_extension": ".py",
   "mimetype": "text/x-python",
   "name": "python",
   "nbconvert_exporter": "python",
   "pygments_lexer": "ipython3",
   "version": "3.8.6"
  }
 },
 "nbformat": 4,
 "nbformat_minor": 5
}
